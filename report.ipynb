{
 "cells": [
  {
   "cell_type": "code",
   "execution_count": null,
   "id": "930d654e",
   "metadata": {},
   "outputs": [],
   "source": [
    "import csv\n",
    "from datetime import datetime, timedelta\n",
    "\n",
    "# Define the file name\n",
    "filename = \"covid_impact_analysis.csv\"\n",
    "\n",
    "# Create sample data\n",
    "start_date = datetime(2025, 5, 1)\n",
    "data = []\n",
    "\n",
    "for i in range(100):\n",
    "    date = (start_date + timedelta(days=i)).strftime(\"%Y-%m-%d\")\n",
    "    data.append([\n",
    "        date, \"Jorhat\", 10000 + i * 150, 150, 500 + i * 5, 5, \n",
    "        9500 + i * 100, 200 - i, 50000 + i * 500, f\"{3 + i*0.05}%\", \n",
    "        8000 + i * 200, f\"{80 + i*0.5}%\", f\"GDP -{5 - i*0.05}%\", \n",
    "        f\"{30 - i*0.2}%\", f\"{50 + i*0.5}%\", \n",
    "        \"No restrictions\" if i > 20 else \"Masks recommended\"\n",
    "    ])\n",
    "\n",
    "# Define CSV headers\n",
    "headers = [\n",
    "    \"Date\", \"Location\", \"Total Cases\", \"New Cases\", \"Total Deaths\", \"New Deaths\",\n",
    "    \"Recovered Cases\", \"Hospitalizations\", \"Testing Conducted\", \"Positivity Rate\",\n",
    "    \"Vaccinations Administered\", \"Population Vaccinated\", \"Economic Impact\",\n",
    "    \"Mobility Reduction\", \"ICU Availability\", \"Government Policies\"\n",
    "]\n",
    "\n",
    "# Write data to CSV file\n",
    "with open(filename, mode=\"w\", newline=\"\", encoding=\"utf-8\") as file:\n",
    "    writer = csv.writer(file)\n",
    "    writer.writerow(headers)\n",
    "    writer.writerows(data)\n",
    "\n",
    "print(f\"CSV file '{filename}' has been successfully created!\")\n",
    "import pandas as pd\n",
    "\n",
    "# Read the CSV file\n",
    "df = pd.read_csv(\"covid_impact_analysis.csv\")\n",
    "\n",
    "# Display the table\n",
    "print(df)"
   ]
  }
 ],
 "metadata": {
  "language_info": {
   "name": "python"
  }
 },
 "nbformat": 4,
 "nbformat_minor": 5
}
